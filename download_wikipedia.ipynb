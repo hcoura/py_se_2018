{
 "cells": [
  {
   "cell_type": "code",
   "execution_count": 14,
   "metadata": {},
   "outputs": [],
   "source": [
    "import requests\n",
    "import shutil\n",
    "import re\n",
    "import hashlib\n",
    "import html\n",
    "\n",
    "from parsel import Selector\n",
    "from urllib.parse import urljoin, unquote\n",
    "from os import path, makedirs"
   ]
  },
  {
   "cell_type": "code",
   "execution_count": 25,
   "metadata": {},
   "outputs": [],
   "source": [
    "start_url = \"https://pt.wikipedia.org/wiki/Clube_Atlético_Mineiro\"\n",
    "\n",
    "response = requests.get(start_url)\n",
    "start_sel = Selector(response.text)"
   ]
  },
  {
   "cell_type": "code",
   "execution_count": 26,
   "metadata": {},
   "outputs": [],
   "source": [
    "ARTICLE_LINK_XPATH = '//div[@id=\"bodyContent\"]/descendant::a[re:test(@href, \"^/wiki/[^:]*$\")]/@href'\n",
    "\n",
    "related_urls = start_sel.xpath(ARTICLE_LINK_XPATH).extract()"
   ]
  },
  {
   "cell_type": "code",
   "execution_count": 17,
   "metadata": {},
   "outputs": [
    {
     "data": {
      "text/plain": [
       "['/wiki/Galo',\n",
       " '/wiki/25_de_mar%C3%A7o',\n",
       " '/wiki/1908',\n",
       " '/wiki/Est%C3%A1dio_Raimundo_Sampaio',\n",
       " '/wiki/Mineir%C3%A3o']"
      ]
     },
     "execution_count": 17,
     "metadata": {},
     "output_type": "execute_result"
    }
   ],
   "source": [
    "related_urls[:5]"
   ]
  },
  {
   "cell_type": "code",
   "execution_count": 18,
   "metadata": {},
   "outputs": [
    {
     "data": {
      "text/plain": [
       "['/wiki/Galo',\n",
       " '/wiki/25_de_março',\n",
       " '/wiki/1908',\n",
       " '/wiki/Estádio_Raimundo_Sampaio',\n",
       " '/wiki/Mineirão']"
      ]
     },
     "execution_count": 18,
     "metadata": {},
     "output_type": "execute_result"
    }
   ],
   "source": [
    "related_urls = [unquote(url) for url in related_urls]\n",
    "related_urls[:5]"
   ]
  },
  {
   "cell_type": "code",
   "execution_count": 41,
   "metadata": {},
   "outputs": [],
   "source": [
    "BASE_URL = \"https://pt.wikipedia.org/\"\n",
    "FILE_NAME_RE = re.compile(r'([^\\.]+\\.\\w+)')\n",
    "\n",
    "def download_page(url):\n",
    "    response = requests.get(urljoin(BASE_URL, url))\n",
    "    response_text = response.text\n",
    "    sel = Selector(response_text)\n",
    "    response_text = download_css(response_text, sel)\n",
    "    response_text = download_js(response_text, sel)\n",
    "    response_text = download_images(response_text, sel)\n",
    "    for url in related_urls:\n",
    "        file_name = 'wikipedia/' + url.split('/')[-1] + '.html'\n",
    "        response_text = replace_link(response_text, url, file_name)\n",
    "    page_name = unquote(response.url.split('/')[-1]) + '.html'\n",
    "    with open(f'wikipedia/{page_name}', 'w', encoding='utf8') as f:\n",
    "        f.write(response_text)\n",
    "\n",
    "def download_links(response_text, sel, links_css_selector, download_folder):\n",
    "    links = get_links(sel, links_css_selector)\n",
    "    for link in links:\n",
    "        file_path = download_file(link, download_folder)\n",
    "        response_text = replace_link(response_text, link, file_path)\n",
    "    return response_text\n",
    "\n",
    "def download_file(link, download_folder):\n",
    "    if not path.exists(f'wikipedia/{download_folder}'):\n",
    "        makedirs(f'wikipedia/{download_folder}')\n",
    "\n",
    "    file_path = get_file_path(link, download_folder)\n",
    "    if not path.isfile(file_path):\n",
    "        r = requests.get(urljoin(BASE_URL, link), stream=True)\n",
    "        if r.status_code == 200:\n",
    "            with open(file_path, 'wb') as f:\n",
    "                r.raw.decode_content = True\n",
    "                shutil.copyfileobj(r.raw, f)\n",
    "    return file_path\n",
    "\n",
    "def get_file_path(link, download_folder):\n",
    "    if download_folder in ['js', 'css']:\n",
    "        file_name = hashlib.sha1(link.encode()).hexdigest()[:8] + f'.{download_folder}'\n",
    "    else:\n",
    "        file_name = link.split('/')[-1]\n",
    "        m = FILE_NAME_RE.match(file_name)\n",
    "        if m:\n",
    "            file_name = m.group(1)\n",
    "    return f'wikipedia/{download_folder}/{file_name}'\n",
    "    \n",
    "def download_css(response_text, sel):\n",
    "    return download_links(response_text, sel, 'link[rel=\"stylesheet\"]::attr(href)', 'css')\n",
    "\n",
    "def download_js(response_text, sel):\n",
    "    return download_links(response_text, sel, 'script::attr(src)', 'js')\n",
    "\n",
    "def download_images(response_text, sel):\n",
    "    return download_links(response_text, sel, 'img::attr(src)', 'images')\n",
    "\n",
    "def replace_link(response_text, link, file_path):\n",
    "    return response_text.replace(html.escape(link), file_path.replace('wikipedia/', ''))\n",
    "    \n",
    "def get_links(sel, links_css_selector):\n",
    "    return sel.css(links_css_selector).extract()"
   ]
  },
  {
   "cell_type": "code",
   "execution_count": 42,
   "metadata": {},
   "outputs": [],
   "source": [
    "download_page(start_url)\n",
    "\n",
    "for url in related_urls[:5]:\n",
    "    download_page(url)"
   ]
  },
  {
   "cell_type": "code",
   "execution_count": null,
   "metadata": {},
   "outputs": [],
   "source": []
  }
 ],
 "metadata": {
  "kernelspec": {
   "display_name": "Python 3",
   "language": "python",
   "name": "python3"
  },
  "language_info": {
   "codemirror_mode": {
    "name": "ipython",
    "version": 3
   },
   "file_extension": ".py",
   "mimetype": "text/x-python",
   "name": "python",
   "nbconvert_exporter": "python",
   "pygments_lexer": "ipython3",
   "version": "3.6.3"
  }
 },
 "nbformat": 4,
 "nbformat_minor": 2
}
